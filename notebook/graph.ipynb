{
 "cells": [
  {
   "cell_type": "code",
   "execution_count": null,
   "id": "c21923bc-3ea6-46d3-8845-b2964297e53c",
   "metadata": {},
   "outputs": [],
   "source": [
    "import os\n",
    "import pandas as pd\n",
    "from tqdm.notebook import tqdm_notebook\n",
    "from zlai.llms import Zhipu\n",
    "from zlai.llms.generate_config.api import GLM4FlashGenerateConfig, GLM4GenerateConfig, GLM4AirGenerateConfig\n",
    "from zlai.agent import GraphAgent, EntityAgent\n",
    "from zlai.parse import ParseCode"
   ]
  },
  {
   "cell_type": "code",
   "execution_count": null,
   "id": "056372a3-c219-4386-9a10-4fb1c9160db7",
   "metadata": {},
   "outputs": [],
   "source": [
    "# 选择合适的模型\n",
    "# llm = Zhipu(generate_config=GLM4FlashGenerateConfig(max_tokens=8192))\n",
    "llm = Zhipu(generate_config=GLM4GenerateConfig(max_tokens=8192))\n",
    "# llm = Zhipu(generate_config=GLM4AirGenerateConfig(max_tokens=8192))"
   ]
  },
  {
   "cell_type": "code",
   "execution_count": null,
   "id": "898bc11d-1019-40e0-a2b5-4d391b9acbb9",
   "metadata": {},
   "outputs": [],
   "source": [
    "# 数据读取与清洗\n",
    "with open(\"../data/西游记.md\", \"r\", encoding=\"utf-8\") as f:\n",
    "    content = f.read()\n",
    "    content = content.replace(\"\\u3000\", \"\")\n",
    "\n",
    "data = content.split(\"\\n\\n\\n\\n\\n\\n\")\n",
    "\n",
    "book = []\n",
    "for chapter in data:\n",
    "    paragraph = [item for item in chapter.split(\"\\n\") if len(item) > 128]\n",
    "    book.extend(paragraph)\n",
    "\n",
    "def batches(lst: list, batch_size: int,):\n",
    "    \"\"\"\n",
    "    desc: 生成批次数据\n",
    "    :param lst: 原始List\n",
    "    :param batch_size: 批次大小\n",
    "    :return:\n",
    "    \"\"\"\n",
    "    for i in range(0, len(lst), batch_size):\n",
    "        yield lst[i:i+batch_size]"
   ]
  },
  {
   "cell_type": "code",
   "execution_count": null,
   "id": "b6adbcd4-3a48-4649-a6d1-9219b3b3a73e",
   "metadata": {},
   "outputs": [],
   "source": [
    "# 创建保存文件与数据字段\n",
    "entity_file = \"./entity_v1.csv\"\n",
    "relation_file = \"./relation_v1.csv\"\n",
    "\n",
    "entity_columns = [\"entity_name\", \"entity_type\", \"entity_description\"]\n",
    "relation_columns = [\"source\", \"target\", \"relationship\", \"description\", \"strength\"]\n",
    "\n",
    "df_entity = pd.DataFrame(columns=entity_columns)\n",
    "df_relation = pd.DataFrame(columns=relation_columns)\n",
    "\n",
    "if not os.path.exists(entity_file):\n",
    "    df_entity.to_csv(entity_file, index=False)\n",
    "if not os.path.exists(relation_file):\n",
    "    df_relation.to_csv(relation_file, index=False)"
   ]
  },
  {
   "cell_type": "code",
   "execution_count": null,
   "id": "36272d5c-2063-49f7-92e6-47e16f5443e7",
   "metadata": {},
   "outputs": [],
   "source": [
    "# 每五个段落为一组进行实体关系识别\n",
    "book_data = ['\\n'.join(item) for item in batches(book, 5)]\n",
    "total = len(book_data)\n",
    "error_chapter = []\n",
    "total"
   ]
  },
  {
   "cell_type": "code",
   "execution_count": null,
   "id": "52488a7b-8b37-4589-be50-a5d09c30ffaf",
   "metadata": {},
   "outputs": [],
   "source": [
    "# 数据跑批，识别，这里只识别了人物地点\n",
    "for i, chapter in tqdm_notebook(enumerate(book_data), total=total):\n",
    "    try:\n",
    "        agent = GraphAgent(llm=llm, verbose=False)\n",
    "        task_completion = agent(chapter, entity_types=str([\"人物\", \"地点\"]))\n",
    "        df_entity = pd.DataFrame(eval(task_completion.data.get(\"entities\")), columns=entity_columns)\n",
    "        df_relation = pd.DataFrame(eval(ParseCode.sparse_script(task_completion.content)[0]), columns=relation_columns)\n",
    "        df_entity.to_csv(entity_file, mode='a', header=False, index=False)\n",
    "        df_relation.to_csv(relation_file, mode='a', header=False, index=False)\n",
    "    except Exception as e:\n",
    "        error_chapter.append(i)\n",
    "        print(f\"{i}: {e}\")"
   ]
  },
  {
   "cell_type": "code",
   "execution_count": null,
   "id": "9f284e22-ac29-46b6-9146-a29fb4768053",
   "metadata": {},
   "outputs": [],
   "source": [
    "error_chapter"
   ]
  },
  {
   "cell_type": "code",
   "execution_count": null,
   "id": "bd1bdfc8-8c0e-4625-9cfb-bd2bb441b049",
   "metadata": {
    "scrolled": true
   },
   "outputs": [],
   "source": [
    "# 单独对未成功识别的段落进行再次识别\n",
    "chapter = book_data[127]\n",
    "agent = GraphAgent(llm=llm, verbose=True)\n",
    "task_completion = agent(chapter, entity_types=str([\"人物\", \"地点\"]))"
   ]
  },
  {
   "cell_type": "code",
   "execution_count": null,
   "id": "10b771e2-2a4a-4508-bfe6-43045201be1c",
   "metadata": {},
   "outputs": [],
   "source": [
    "df_entity = pd.DataFrame(eval(task_completion.data.get(\"entities\")), columns=entity_columns)\n",
    "df_relation = pd.DataFrame(eval(ParseCode.sparse_script(task_completion.content)[0]), columns=relation_columns)"
   ]
  },
  {
   "cell_type": "code",
   "execution_count": null,
   "id": "c9da2512-b338-4bdc-a0a3-c1ad062c37a9",
   "metadata": {},
   "outputs": [],
   "source": [
    "df_entity.to_csv(entity_file, mode='a', header=False, index=False)\n",
    "df_relation.to_csv(relation_file, mode='a', header=False, index=False)"
   ]
  },
  {
   "cell_type": "markdown",
   "id": "42302b4e-a5f7-450c-b370-71ee1c2f6e45",
   "metadata": {},
   "source": [
    "-------"
   ]
  }
 ],
 "metadata": {
  "kernelspec": {
   "display_name": "Python 3 (ipykernel)",
   "language": "python",
   "name": "python3"
  },
  "language_info": {
   "codemirror_mode": {
    "name": "ipython",
    "version": 3
   },
   "file_extension": ".py",
   "mimetype": "text/x-python",
   "name": "python",
   "nbconvert_exporter": "python",
   "pygments_lexer": "ipython3",
   "version": "3.12.3"
  }
 },
 "nbformat": 4,
 "nbformat_minor": 5
}
