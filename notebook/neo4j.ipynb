{
 "cells": [
  {
   "cell_type": "code",
   "execution_count": null,
   "id": "ef5489b3-4469-4348-9d9d-ad14952568d0",
   "metadata": {},
   "outputs": [],
   "source": [
    "import pandas as pd\n",
    "from tqdm.notebook import tqdm_notebook\n",
    "from py2neo import Graph, Node, Relationship, Graph, Subgraph"
   ]
  },
  {
   "cell_type": "code",
   "execution_count": null,
   "id": "bd5cf125-51c4-42c0-8f1a-13b89713242e",
   "metadata": {},
   "outputs": [],
   "source": [
    "graph = Graph(\"bolt://localhost:27687\", auth=(\"neo4j\", \"12345678\"))\n",
    "# 删除全部节点，慎重\n",
    "# graph.delete_all()"
   ]
  },
  {
   "cell_type": "markdown",
   "id": "2106a42a-26ed-4864-b8e1-35922b99cf6a",
   "metadata": {},
   "source": [
    "### 保存实体节点到Neo4J"
   ]
  },
  {
   "cell_type": "code",
   "execution_count": null,
   "id": "dea51976-5cba-4f29-8b8c-be534c00d895",
   "metadata": {},
   "outputs": [],
   "source": [
    "df_entity = pd.read_csv(\"./entity_v1.csv\")\n",
    "df_entity.columns = [\"name\", \"label\", \"description\"]\n",
    "df_entity = df_entity.drop_duplicates(subset=[\"name\"])"
   ]
  },
  {
   "cell_type": "code",
   "execution_count": null,
   "id": "e814e509-85cc-4a1d-a8c1-464f578bc5e6",
   "metadata": {},
   "outputs": [],
   "source": [
    "for item in tqdm_notebook(df_entity.to_dict(\"records\")):\n",
    "    label = item.pop(\"label\")\n",
    "    node = Node(label, **item)\n",
    "    graph.create(node)"
   ]
  },
  {
   "cell_type": "markdown",
   "id": "d64e7825-2c95-4df7-b81b-dad8e81067bc",
   "metadata": {},
   "source": [
    "### 保存关系到Neo4J"
   ]
  },
  {
   "cell_type": "code",
   "execution_count": null,
   "id": "27074539-7059-4da7-909b-f71e779369b7",
   "metadata": {
    "scrolled": true
   },
   "outputs": [],
   "source": [
    "df_relation = pd.read_csv(\"./relation_v1.csv\")\n",
    "df_relation = df_relation.drop_duplicates(subset=[\"source\", \"target\"])\n",
    "# df_entity.columns = [\"name\", \"label\", \"description\"]\n",
    "\n",
    "relationships = []\n",
    "for item in df_relation.to_dict(\"records\"):\n",
    "    source = graph.nodes.match(name=item.get(\"source\")).first()\n",
    "    target = graph.nodes.match(name=item.get(\"target\")).first()\n",
    "    description = item.get(\"description\")\n",
    "    relationship = item.get(\"relationship\")\n",
    "    if source and target:\n",
    "        relationships.append(\n",
    "            Relationship(source, relationship, target, description=description)\n",
    "        )\n",
    "Relations = Subgraph(relationships=relationships)   \n",
    "graph.create(Relations)"
   ]
  },
  {
   "cell_type": "markdown",
   "id": "b7ed698d-ec54-47ce-8761-d7bded92093e",
   "metadata": {},
   "source": [
    "------"
   ]
  }
 ],
 "metadata": {
  "kernelspec": {
   "display_name": "Python 3 (ipykernel)",
   "language": "python",
   "name": "python3"
  },
  "language_info": {
   "codemirror_mode": {
    "name": "ipython",
    "version": 3
   },
   "file_extension": ".py",
   "mimetype": "text/x-python",
   "name": "python",
   "nbconvert_exporter": "python",
   "pygments_lexer": "ipython3",
   "version": "3.12.3"
  }
 },
 "nbformat": 4,
 "nbformat_minor": 5
}
